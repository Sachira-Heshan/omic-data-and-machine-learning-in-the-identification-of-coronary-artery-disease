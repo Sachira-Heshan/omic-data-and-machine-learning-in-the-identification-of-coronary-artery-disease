{
  "nbformat": 4,
  "nbformat_minor": 0,
  "metadata": {
    "colab": {
      "provenance": [],
      "mount_file_id": "15zDG3fjFvhTXh9ujYLsMX3B4BtISurwK",
      "authorship_tag": "ABX9TyOJmKLCSHHY/Qk5v5DeY2uC",
      "include_colab_link": true
    },
    "kernelspec": {
      "name": "python3",
      "display_name": "Python 3"
    },
    "language_info": {
      "name": "python"
    }
  },
  "cells": [
    {
      "cell_type": "markdown",
      "metadata": {
        "id": "view-in-github",
        "colab_type": "text"
      },
      "source": [
        "<a href=\"https://colab.research.google.com/github/Sachira-Heshan/omic-data-and-machine-learning-in-the-identification-of-coronary-artery-disease/blob/main/decision_tree_models_GSE113079.ipynb\" target=\"_parent\"><img src=\"https://colab.research.google.com/assets/colab-badge.svg\" alt=\"Open In Colab\"/></a>"
      ]
    },
    {
      "cell_type": "code",
      "execution_count": 1,
      "metadata": {
        "id": "ZY1NBPN98tAE"
      },
      "outputs": [],
      "source": [
        "# building decision tree models for different number of features choose by Mutual Information in GSE113079"
      ]
    },
    {
      "cell_type": "code",
      "source": [
        "import pandas as pd"
      ],
      "metadata": {
        "id": "JAD888WrGDM1"
      },
      "execution_count": 2,
      "outputs": []
    },
    {
      "cell_type": "code",
      "source": [
        "df = pd.read_excel('/content/drive/MyDrive/Research/Datasets/Cleaned/cleaned-dataset-GSE113079.xlsx')"
      ],
      "metadata": {
        "id": "MwldcriyGFZK"
      },
      "execution_count": 3,
      "outputs": []
    },
    {
      "cell_type": "code",
      "source": [
        "df.head()"
      ],
      "metadata": {
        "colab": {
          "base_uri": "https://localhost:8080/",
          "height": 255
        },
        "id": "lMIpVInoGH1S",
        "outputId": "b3197036-4396-4d10-fbd6-2cd0a7fdae29"
      },
      "execution_count": 4,
      "outputs": [
        {
          "output_type": "execute_result",
          "data": {
            "text/plain": [
              "        Unnamed: 0         0         1         2         3         4  \\\n",
              "0  GE_BrightCorner  2.157974  1.779174  1.476457  1.635460  1.459245   \n",
              "1       DarkCorner -4.972070 -5.079564 -5.055798 -5.048396 -4.759264   \n",
              "2        p42318_v4 -5.136246 -5.309609 -4.683745 -5.058544 -5.044792   \n",
              "3             p117 -0.908056 -0.279806 -0.814316 -0.403859 -0.239435   \n",
              "4           p28737 -5.142836 -5.326123 -4.436602 -5.173800 -5.042362   \n",
              "\n",
              "          5         6         7         8  ...       131       132       133  \\\n",
              "0  1.014671  1.548667  1.299535  1.340023  ...  2.105669  3.494671  2.225658   \n",
              "1 -5.384547 -4.916507 -4.586820 -4.649654  ... -2.250812 -4.181840 -5.607463   \n",
              "2 -5.042380 -5.147751 -4.501071 -4.903667  ... -2.410703 -4.110729 -5.811153   \n",
              "3 -0.586996 -0.996306 -0.345914 -0.344358  ... -1.481907 -0.438192 -0.463400   \n",
              "4 -5.497274 -5.146853 -4.856003 -4.855644  ... -2.457831 -4.348550 -5.849335   \n",
              "\n",
              "        134       135       136       137       138       139       140  \n",
              "0  2.244781  2.954112  4.258145  3.446817  3.219271  3.048190  3.601977  \n",
              "1 -5.420901 -6.074095 -5.355829 -5.419512 -5.156093 -5.566904 -5.874120  \n",
              "2 -5.480375 -6.194078 -4.979015 -5.532501 -5.517557 -5.754226 -6.050066  \n",
              "3 -0.838711 -0.213053 -0.019725 -0.439010 -0.169885 -0.269132 -0.156173  \n",
              "4 -5.599132 -6.290147 -4.613355 -5.186365 -5.343323 -5.344678 -5.375709  \n",
              "\n",
              "[5 rows x 142 columns]"
            ],
            "text/html": [
              "\n",
              "  <div id=\"df-9525db21-0e5b-4720-9532-c8d4f24353c7\" class=\"colab-df-container\">\n",
              "    <div>\n",
              "<style scoped>\n",
              "    .dataframe tbody tr th:only-of-type {\n",
              "        vertical-align: middle;\n",
              "    }\n",
              "\n",
              "    .dataframe tbody tr th {\n",
              "        vertical-align: top;\n",
              "    }\n",
              "\n",
              "    .dataframe thead th {\n",
              "        text-align: right;\n",
              "    }\n",
              "</style>\n",
              "<table border=\"1\" class=\"dataframe\">\n",
              "  <thead>\n",
              "    <tr style=\"text-align: right;\">\n",
              "      <th></th>\n",
              "      <th>Unnamed: 0</th>\n",
              "      <th>0</th>\n",
              "      <th>1</th>\n",
              "      <th>2</th>\n",
              "      <th>3</th>\n",
              "      <th>4</th>\n",
              "      <th>5</th>\n",
              "      <th>6</th>\n",
              "      <th>7</th>\n",
              "      <th>8</th>\n",
              "      <th>...</th>\n",
              "      <th>131</th>\n",
              "      <th>132</th>\n",
              "      <th>133</th>\n",
              "      <th>134</th>\n",
              "      <th>135</th>\n",
              "      <th>136</th>\n",
              "      <th>137</th>\n",
              "      <th>138</th>\n",
              "      <th>139</th>\n",
              "      <th>140</th>\n",
              "    </tr>\n",
              "  </thead>\n",
              "  <tbody>\n",
              "    <tr>\n",
              "      <th>0</th>\n",
              "      <td>GE_BrightCorner</td>\n",
              "      <td>2.157974</td>\n",
              "      <td>1.779174</td>\n",
              "      <td>1.476457</td>\n",
              "      <td>1.635460</td>\n",
              "      <td>1.459245</td>\n",
              "      <td>1.014671</td>\n",
              "      <td>1.548667</td>\n",
              "      <td>1.299535</td>\n",
              "      <td>1.340023</td>\n",
              "      <td>...</td>\n",
              "      <td>2.105669</td>\n",
              "      <td>3.494671</td>\n",
              "      <td>2.225658</td>\n",
              "      <td>2.244781</td>\n",
              "      <td>2.954112</td>\n",
              "      <td>4.258145</td>\n",
              "      <td>3.446817</td>\n",
              "      <td>3.219271</td>\n",
              "      <td>3.048190</td>\n",
              "      <td>3.601977</td>\n",
              "    </tr>\n",
              "    <tr>\n",
              "      <th>1</th>\n",
              "      <td>DarkCorner</td>\n",
              "      <td>-4.972070</td>\n",
              "      <td>-5.079564</td>\n",
              "      <td>-5.055798</td>\n",
              "      <td>-5.048396</td>\n",
              "      <td>-4.759264</td>\n",
              "      <td>-5.384547</td>\n",
              "      <td>-4.916507</td>\n",
              "      <td>-4.586820</td>\n",
              "      <td>-4.649654</td>\n",
              "      <td>...</td>\n",
              "      <td>-2.250812</td>\n",
              "      <td>-4.181840</td>\n",
              "      <td>-5.607463</td>\n",
              "      <td>-5.420901</td>\n",
              "      <td>-6.074095</td>\n",
              "      <td>-5.355829</td>\n",
              "      <td>-5.419512</td>\n",
              "      <td>-5.156093</td>\n",
              "      <td>-5.566904</td>\n",
              "      <td>-5.874120</td>\n",
              "    </tr>\n",
              "    <tr>\n",
              "      <th>2</th>\n",
              "      <td>p42318_v4</td>\n",
              "      <td>-5.136246</td>\n",
              "      <td>-5.309609</td>\n",
              "      <td>-4.683745</td>\n",
              "      <td>-5.058544</td>\n",
              "      <td>-5.044792</td>\n",
              "      <td>-5.042380</td>\n",
              "      <td>-5.147751</td>\n",
              "      <td>-4.501071</td>\n",
              "      <td>-4.903667</td>\n",
              "      <td>...</td>\n",
              "      <td>-2.410703</td>\n",
              "      <td>-4.110729</td>\n",
              "      <td>-5.811153</td>\n",
              "      <td>-5.480375</td>\n",
              "      <td>-6.194078</td>\n",
              "      <td>-4.979015</td>\n",
              "      <td>-5.532501</td>\n",
              "      <td>-5.517557</td>\n",
              "      <td>-5.754226</td>\n",
              "      <td>-6.050066</td>\n",
              "    </tr>\n",
              "    <tr>\n",
              "      <th>3</th>\n",
              "      <td>p117</td>\n",
              "      <td>-0.908056</td>\n",
              "      <td>-0.279806</td>\n",
              "      <td>-0.814316</td>\n",
              "      <td>-0.403859</td>\n",
              "      <td>-0.239435</td>\n",
              "      <td>-0.586996</td>\n",
              "      <td>-0.996306</td>\n",
              "      <td>-0.345914</td>\n",
              "      <td>-0.344358</td>\n",
              "      <td>...</td>\n",
              "      <td>-1.481907</td>\n",
              "      <td>-0.438192</td>\n",
              "      <td>-0.463400</td>\n",
              "      <td>-0.838711</td>\n",
              "      <td>-0.213053</td>\n",
              "      <td>-0.019725</td>\n",
              "      <td>-0.439010</td>\n",
              "      <td>-0.169885</td>\n",
              "      <td>-0.269132</td>\n",
              "      <td>-0.156173</td>\n",
              "    </tr>\n",
              "    <tr>\n",
              "      <th>4</th>\n",
              "      <td>p28737</td>\n",
              "      <td>-5.142836</td>\n",
              "      <td>-5.326123</td>\n",
              "      <td>-4.436602</td>\n",
              "      <td>-5.173800</td>\n",
              "      <td>-5.042362</td>\n",
              "      <td>-5.497274</td>\n",
              "      <td>-5.146853</td>\n",
              "      <td>-4.856003</td>\n",
              "      <td>-4.855644</td>\n",
              "      <td>...</td>\n",
              "      <td>-2.457831</td>\n",
              "      <td>-4.348550</td>\n",
              "      <td>-5.849335</td>\n",
              "      <td>-5.599132</td>\n",
              "      <td>-6.290147</td>\n",
              "      <td>-4.613355</td>\n",
              "      <td>-5.186365</td>\n",
              "      <td>-5.343323</td>\n",
              "      <td>-5.344678</td>\n",
              "      <td>-5.375709</td>\n",
              "    </tr>\n",
              "  </tbody>\n",
              "</table>\n",
              "<p>5 rows × 142 columns</p>\n",
              "</div>\n",
              "    <div class=\"colab-df-buttons\">\n",
              "\n",
              "  <div class=\"colab-df-container\">\n",
              "    <button class=\"colab-df-convert\" onclick=\"convertToInteractive('df-9525db21-0e5b-4720-9532-c8d4f24353c7')\"\n",
              "            title=\"Convert this dataframe to an interactive table.\"\n",
              "            style=\"display:none;\">\n",
              "\n",
              "  <svg xmlns=\"http://www.w3.org/2000/svg\" height=\"24px\" viewBox=\"0 -960 960 960\">\n",
              "    <path d=\"M120-120v-720h720v720H120Zm60-500h600v-160H180v160Zm220 220h160v-160H400v160Zm0 220h160v-160H400v160ZM180-400h160v-160H180v160Zm440 0h160v-160H620v160ZM180-180h160v-160H180v160Zm440 0h160v-160H620v160Z\"/>\n",
              "  </svg>\n",
              "    </button>\n",
              "\n",
              "  <style>\n",
              "    .colab-df-container {\n",
              "      display:flex;\n",
              "      gap: 12px;\n",
              "    }\n",
              "\n",
              "    .colab-df-convert {\n",
              "      background-color: #E8F0FE;\n",
              "      border: none;\n",
              "      border-radius: 50%;\n",
              "      cursor: pointer;\n",
              "      display: none;\n",
              "      fill: #1967D2;\n",
              "      height: 32px;\n",
              "      padding: 0 0 0 0;\n",
              "      width: 32px;\n",
              "    }\n",
              "\n",
              "    .colab-df-convert:hover {\n",
              "      background-color: #E2EBFA;\n",
              "      box-shadow: 0px 1px 2px rgba(60, 64, 67, 0.3), 0px 1px 3px 1px rgba(60, 64, 67, 0.15);\n",
              "      fill: #174EA6;\n",
              "    }\n",
              "\n",
              "    .colab-df-buttons div {\n",
              "      margin-bottom: 4px;\n",
              "    }\n",
              "\n",
              "    [theme=dark] .colab-df-convert {\n",
              "      background-color: #3B4455;\n",
              "      fill: #D2E3FC;\n",
              "    }\n",
              "\n",
              "    [theme=dark] .colab-df-convert:hover {\n",
              "      background-color: #434B5C;\n",
              "      box-shadow: 0px 1px 3px 1px rgba(0, 0, 0, 0.15);\n",
              "      filter: drop-shadow(0px 1px 2px rgba(0, 0, 0, 0.3));\n",
              "      fill: #FFFFFF;\n",
              "    }\n",
              "  </style>\n",
              "\n",
              "    <script>\n",
              "      const buttonEl =\n",
              "        document.querySelector('#df-9525db21-0e5b-4720-9532-c8d4f24353c7 button.colab-df-convert');\n",
              "      buttonEl.style.display =\n",
              "        google.colab.kernel.accessAllowed ? 'block' : 'none';\n",
              "\n",
              "      async function convertToInteractive(key) {\n",
              "        const element = document.querySelector('#df-9525db21-0e5b-4720-9532-c8d4f24353c7');\n",
              "        const dataTable =\n",
              "          await google.colab.kernel.invokeFunction('convertToInteractive',\n",
              "                                                    [key], {});\n",
              "        if (!dataTable) return;\n",
              "\n",
              "        const docLinkHtml = 'Like what you see? Visit the ' +\n",
              "          '<a target=\"_blank\" href=https://colab.research.google.com/notebooks/data_table.ipynb>data table notebook</a>'\n",
              "          + ' to learn more about interactive tables.';\n",
              "        element.innerHTML = '';\n",
              "        dataTable['output_type'] = 'display_data';\n",
              "        await google.colab.output.renderOutput(dataTable, element);\n",
              "        const docLink = document.createElement('div');\n",
              "        docLink.innerHTML = docLinkHtml;\n",
              "        element.appendChild(docLink);\n",
              "      }\n",
              "    </script>\n",
              "  </div>\n",
              "\n",
              "\n",
              "<div id=\"df-42d18bef-07b4-4627-8dde-5edb5224ea71\">\n",
              "  <button class=\"colab-df-quickchart\" onclick=\"quickchart('df-42d18bef-07b4-4627-8dde-5edb5224ea71')\"\n",
              "            title=\"Suggest charts.\"\n",
              "            style=\"display:none;\">\n",
              "\n",
              "<svg xmlns=\"http://www.w3.org/2000/svg\" height=\"24px\"viewBox=\"0 0 24 24\"\n",
              "     width=\"24px\">\n",
              "    <g>\n",
              "        <path d=\"M19 3H5c-1.1 0-2 .9-2 2v14c0 1.1.9 2 2 2h14c1.1 0 2-.9 2-2V5c0-1.1-.9-2-2-2zM9 17H7v-7h2v7zm4 0h-2V7h2v10zm4 0h-2v-4h2v4z\"/>\n",
              "    </g>\n",
              "</svg>\n",
              "  </button>\n",
              "\n",
              "<style>\n",
              "  .colab-df-quickchart {\n",
              "      --bg-color: #E8F0FE;\n",
              "      --fill-color: #1967D2;\n",
              "      --hover-bg-color: #E2EBFA;\n",
              "      --hover-fill-color: #174EA6;\n",
              "      --disabled-fill-color: #AAA;\n",
              "      --disabled-bg-color: #DDD;\n",
              "  }\n",
              "\n",
              "  [theme=dark] .colab-df-quickchart {\n",
              "      --bg-color: #3B4455;\n",
              "      --fill-color: #D2E3FC;\n",
              "      --hover-bg-color: #434B5C;\n",
              "      --hover-fill-color: #FFFFFF;\n",
              "      --disabled-bg-color: #3B4455;\n",
              "      --disabled-fill-color: #666;\n",
              "  }\n",
              "\n",
              "  .colab-df-quickchart {\n",
              "    background-color: var(--bg-color);\n",
              "    border: none;\n",
              "    border-radius: 50%;\n",
              "    cursor: pointer;\n",
              "    display: none;\n",
              "    fill: var(--fill-color);\n",
              "    height: 32px;\n",
              "    padding: 0;\n",
              "    width: 32px;\n",
              "  }\n",
              "\n",
              "  .colab-df-quickchart:hover {\n",
              "    background-color: var(--hover-bg-color);\n",
              "    box-shadow: 0 1px 2px rgba(60, 64, 67, 0.3), 0 1px 3px 1px rgba(60, 64, 67, 0.15);\n",
              "    fill: var(--button-hover-fill-color);\n",
              "  }\n",
              "\n",
              "  .colab-df-quickchart-complete:disabled,\n",
              "  .colab-df-quickchart-complete:disabled:hover {\n",
              "    background-color: var(--disabled-bg-color);\n",
              "    fill: var(--disabled-fill-color);\n",
              "    box-shadow: none;\n",
              "  }\n",
              "\n",
              "  .colab-df-spinner {\n",
              "    border: 2px solid var(--fill-color);\n",
              "    border-color: transparent;\n",
              "    border-bottom-color: var(--fill-color);\n",
              "    animation:\n",
              "      spin 1s steps(1) infinite;\n",
              "  }\n",
              "\n",
              "  @keyframes spin {\n",
              "    0% {\n",
              "      border-color: transparent;\n",
              "      border-bottom-color: var(--fill-color);\n",
              "      border-left-color: var(--fill-color);\n",
              "    }\n",
              "    20% {\n",
              "      border-color: transparent;\n",
              "      border-left-color: var(--fill-color);\n",
              "      border-top-color: var(--fill-color);\n",
              "    }\n",
              "    30% {\n",
              "      border-color: transparent;\n",
              "      border-left-color: var(--fill-color);\n",
              "      border-top-color: var(--fill-color);\n",
              "      border-right-color: var(--fill-color);\n",
              "    }\n",
              "    40% {\n",
              "      border-color: transparent;\n",
              "      border-right-color: var(--fill-color);\n",
              "      border-top-color: var(--fill-color);\n",
              "    }\n",
              "    60% {\n",
              "      border-color: transparent;\n",
              "      border-right-color: var(--fill-color);\n",
              "    }\n",
              "    80% {\n",
              "      border-color: transparent;\n",
              "      border-right-color: var(--fill-color);\n",
              "      border-bottom-color: var(--fill-color);\n",
              "    }\n",
              "    90% {\n",
              "      border-color: transparent;\n",
              "      border-bottom-color: var(--fill-color);\n",
              "    }\n",
              "  }\n",
              "</style>\n",
              "\n",
              "  <script>\n",
              "    async function quickchart(key) {\n",
              "      const quickchartButtonEl =\n",
              "        document.querySelector('#' + key + ' button');\n",
              "      quickchartButtonEl.disabled = true;  // To prevent multiple clicks.\n",
              "      quickchartButtonEl.classList.add('colab-df-spinner');\n",
              "      try {\n",
              "        const charts = await google.colab.kernel.invokeFunction(\n",
              "            'suggestCharts', [key], {});\n",
              "      } catch (error) {\n",
              "        console.error('Error during call to suggestCharts:', error);\n",
              "      }\n",
              "      quickchartButtonEl.classList.remove('colab-df-spinner');\n",
              "      quickchartButtonEl.classList.add('colab-df-quickchart-complete');\n",
              "    }\n",
              "    (() => {\n",
              "      let quickchartButtonEl =\n",
              "        document.querySelector('#df-42d18bef-07b4-4627-8dde-5edb5224ea71 button');\n",
              "      quickchartButtonEl.style.display =\n",
              "        google.colab.kernel.accessAllowed ? 'block' : 'none';\n",
              "    })();\n",
              "  </script>\n",
              "</div>\n",
              "    </div>\n",
              "  </div>\n"
            ]
          },
          "metadata": {},
          "execution_count": 4
        }
      ]
    },
    {
      "cell_type": "code",
      "source": [
        "df = df.T"
      ],
      "metadata": {
        "id": "-uHVhlaAJk2-"
      },
      "execution_count": 5,
      "outputs": []
    },
    {
      "cell_type": "code",
      "source": [
        "column_names = df.iloc[0, :]"
      ],
      "metadata": {
        "id": "BgY2HaxjJmef"
      },
      "execution_count": 6,
      "outputs": []
    },
    {
      "cell_type": "code",
      "source": [
        "df.columns = column_names.tolist()"
      ],
      "metadata": {
        "id": "qFOaW4gzJoBQ"
      },
      "execution_count": 7,
      "outputs": []
    },
    {
      "cell_type": "code",
      "source": [
        "df.head()"
      ],
      "metadata": {
        "colab": {
          "base_uri": "https://localhost:8080/",
          "height": 273
        },
        "id": "MueD49viJrHf",
        "outputId": "8bc89023-b614-4393-b492-1f49ede5f363"
      },
      "execution_count": 8,
      "outputs": [
        {
          "output_type": "execute_result",
          "data": {
            "text/plain": [
              "            GE_BrightCorner  DarkCorner  p42318_v4      p117    p28737  \\\n",
              "Unnamed: 0  GE_BrightCorner  DarkCorner  p42318_v4      p117    p28737   \n",
              "0                  2.157974    -4.97207  -5.136246 -0.908056 -5.142836   \n",
              "1                  1.779174   -5.079564  -5.309609 -0.279806 -5.326123   \n",
              "2                  1.476457   -5.055798  -4.683745 -0.814316 -4.436602   \n",
              "3                   1.63546   -5.048396  -5.058544 -0.403859   -5.1738   \n",
              "\n",
              "              p17314  A_33_P3310047    p22477     p8225     p7095  ...  \\\n",
              "Unnamed: 0    p17314  A_33_P3310047    p22477     p8225     p7095  ...   \n",
              "0           -5.24106       0.996369 -3.309695 -1.096744 -2.356272  ...   \n",
              "1          -5.431599       1.049151  -2.68212  -0.88413 -3.141455  ...   \n",
              "2          -5.483527       1.107679 -3.565926 -1.364489 -3.778602  ...   \n",
              "3          -5.315852       0.922813 -3.687033 -0.971812 -2.599749  ...   \n",
              "\n",
              "              p25976    p23884  A_33_P3800496  A_21_P0006729  A_24_P284523  \\\n",
              "Unnamed: 0    p25976    p23884  A_33_P3800496  A_21_P0006729  A_24_P284523   \n",
              "0           1.746663 -2.448382      -1.259322      -3.232127      3.164295   \n",
              "1           0.961229 -2.325115      -0.878489      -2.476317      3.059818   \n",
              "2            1.24937 -2.352775      -1.309131      -2.841979      2.908225   \n",
              "3           1.431779 -3.219944      -1.369312      -2.633309      2.667611   \n",
              "\n",
              "              p11121    p26746  A_33_P3677559      p361  target_value  \n",
              "Unnamed: 0    p11121    p26746  A_33_P3677559      p361  target_value  \n",
              "0           -0.41048 -3.946267       -3.01915 -1.535002           1.0  \n",
              "1          -0.499581 -4.027231       -3.49044 -1.432819           1.0  \n",
              "2            0.42274 -4.745641      -3.532535 -1.561514           1.0  \n",
              "3            0.74162 -4.544183      -4.334243 -1.536728           1.0  \n",
              "\n",
              "[5 rows x 65524 columns]"
            ],
            "text/html": [
              "\n",
              "  <div id=\"df-a21c4d6a-e026-48ff-8dde-0576a0da271b\" class=\"colab-df-container\">\n",
              "    <div>\n",
              "<style scoped>\n",
              "    .dataframe tbody tr th:only-of-type {\n",
              "        vertical-align: middle;\n",
              "    }\n",
              "\n",
              "    .dataframe tbody tr th {\n",
              "        vertical-align: top;\n",
              "    }\n",
              "\n",
              "    .dataframe thead th {\n",
              "        text-align: right;\n",
              "    }\n",
              "</style>\n",
              "<table border=\"1\" class=\"dataframe\">\n",
              "  <thead>\n",
              "    <tr style=\"text-align: right;\">\n",
              "      <th></th>\n",
              "      <th>GE_BrightCorner</th>\n",
              "      <th>DarkCorner</th>\n",
              "      <th>p42318_v4</th>\n",
              "      <th>p117</th>\n",
              "      <th>p28737</th>\n",
              "      <th>p17314</th>\n",
              "      <th>A_33_P3310047</th>\n",
              "      <th>p22477</th>\n",
              "      <th>p8225</th>\n",
              "      <th>p7095</th>\n",
              "      <th>...</th>\n",
              "      <th>p25976</th>\n",
              "      <th>p23884</th>\n",
              "      <th>A_33_P3800496</th>\n",
              "      <th>A_21_P0006729</th>\n",
              "      <th>A_24_P284523</th>\n",
              "      <th>p11121</th>\n",
              "      <th>p26746</th>\n",
              "      <th>A_33_P3677559</th>\n",
              "      <th>p361</th>\n",
              "      <th>target_value</th>\n",
              "    </tr>\n",
              "  </thead>\n",
              "  <tbody>\n",
              "    <tr>\n",
              "      <th>Unnamed: 0</th>\n",
              "      <td>GE_BrightCorner</td>\n",
              "      <td>DarkCorner</td>\n",
              "      <td>p42318_v4</td>\n",
              "      <td>p117</td>\n",
              "      <td>p28737</td>\n",
              "      <td>p17314</td>\n",
              "      <td>A_33_P3310047</td>\n",
              "      <td>p22477</td>\n",
              "      <td>p8225</td>\n",
              "      <td>p7095</td>\n",
              "      <td>...</td>\n",
              "      <td>p25976</td>\n",
              "      <td>p23884</td>\n",
              "      <td>A_33_P3800496</td>\n",
              "      <td>A_21_P0006729</td>\n",
              "      <td>A_24_P284523</td>\n",
              "      <td>p11121</td>\n",
              "      <td>p26746</td>\n",
              "      <td>A_33_P3677559</td>\n",
              "      <td>p361</td>\n",
              "      <td>target_value</td>\n",
              "    </tr>\n",
              "    <tr>\n",
              "      <th>0</th>\n",
              "      <td>2.157974</td>\n",
              "      <td>-4.97207</td>\n",
              "      <td>-5.136246</td>\n",
              "      <td>-0.908056</td>\n",
              "      <td>-5.142836</td>\n",
              "      <td>-5.24106</td>\n",
              "      <td>0.996369</td>\n",
              "      <td>-3.309695</td>\n",
              "      <td>-1.096744</td>\n",
              "      <td>-2.356272</td>\n",
              "      <td>...</td>\n",
              "      <td>1.746663</td>\n",
              "      <td>-2.448382</td>\n",
              "      <td>-1.259322</td>\n",
              "      <td>-3.232127</td>\n",
              "      <td>3.164295</td>\n",
              "      <td>-0.41048</td>\n",
              "      <td>-3.946267</td>\n",
              "      <td>-3.01915</td>\n",
              "      <td>-1.535002</td>\n",
              "      <td>1.0</td>\n",
              "    </tr>\n",
              "    <tr>\n",
              "      <th>1</th>\n",
              "      <td>1.779174</td>\n",
              "      <td>-5.079564</td>\n",
              "      <td>-5.309609</td>\n",
              "      <td>-0.279806</td>\n",
              "      <td>-5.326123</td>\n",
              "      <td>-5.431599</td>\n",
              "      <td>1.049151</td>\n",
              "      <td>-2.68212</td>\n",
              "      <td>-0.88413</td>\n",
              "      <td>-3.141455</td>\n",
              "      <td>...</td>\n",
              "      <td>0.961229</td>\n",
              "      <td>-2.325115</td>\n",
              "      <td>-0.878489</td>\n",
              "      <td>-2.476317</td>\n",
              "      <td>3.059818</td>\n",
              "      <td>-0.499581</td>\n",
              "      <td>-4.027231</td>\n",
              "      <td>-3.49044</td>\n",
              "      <td>-1.432819</td>\n",
              "      <td>1.0</td>\n",
              "    </tr>\n",
              "    <tr>\n",
              "      <th>2</th>\n",
              "      <td>1.476457</td>\n",
              "      <td>-5.055798</td>\n",
              "      <td>-4.683745</td>\n",
              "      <td>-0.814316</td>\n",
              "      <td>-4.436602</td>\n",
              "      <td>-5.483527</td>\n",
              "      <td>1.107679</td>\n",
              "      <td>-3.565926</td>\n",
              "      <td>-1.364489</td>\n",
              "      <td>-3.778602</td>\n",
              "      <td>...</td>\n",
              "      <td>1.24937</td>\n",
              "      <td>-2.352775</td>\n",
              "      <td>-1.309131</td>\n",
              "      <td>-2.841979</td>\n",
              "      <td>2.908225</td>\n",
              "      <td>0.42274</td>\n",
              "      <td>-4.745641</td>\n",
              "      <td>-3.532535</td>\n",
              "      <td>-1.561514</td>\n",
              "      <td>1.0</td>\n",
              "    </tr>\n",
              "    <tr>\n",
              "      <th>3</th>\n",
              "      <td>1.63546</td>\n",
              "      <td>-5.048396</td>\n",
              "      <td>-5.058544</td>\n",
              "      <td>-0.403859</td>\n",
              "      <td>-5.1738</td>\n",
              "      <td>-5.315852</td>\n",
              "      <td>0.922813</td>\n",
              "      <td>-3.687033</td>\n",
              "      <td>-0.971812</td>\n",
              "      <td>-2.599749</td>\n",
              "      <td>...</td>\n",
              "      <td>1.431779</td>\n",
              "      <td>-3.219944</td>\n",
              "      <td>-1.369312</td>\n",
              "      <td>-2.633309</td>\n",
              "      <td>2.667611</td>\n",
              "      <td>0.74162</td>\n",
              "      <td>-4.544183</td>\n",
              "      <td>-4.334243</td>\n",
              "      <td>-1.536728</td>\n",
              "      <td>1.0</td>\n",
              "    </tr>\n",
              "  </tbody>\n",
              "</table>\n",
              "<p>5 rows × 65524 columns</p>\n",
              "</div>\n",
              "    <div class=\"colab-df-buttons\">\n",
              "\n",
              "  <div class=\"colab-df-container\">\n",
              "    <button class=\"colab-df-convert\" onclick=\"convertToInteractive('df-a21c4d6a-e026-48ff-8dde-0576a0da271b')\"\n",
              "            title=\"Convert this dataframe to an interactive table.\"\n",
              "            style=\"display:none;\">\n",
              "\n",
              "  <svg xmlns=\"http://www.w3.org/2000/svg\" height=\"24px\" viewBox=\"0 -960 960 960\">\n",
              "    <path d=\"M120-120v-720h720v720H120Zm60-500h600v-160H180v160Zm220 220h160v-160H400v160Zm0 220h160v-160H400v160ZM180-400h160v-160H180v160Zm440 0h160v-160H620v160ZM180-180h160v-160H180v160Zm440 0h160v-160H620v160Z\"/>\n",
              "  </svg>\n",
              "    </button>\n",
              "\n",
              "  <style>\n",
              "    .colab-df-container {\n",
              "      display:flex;\n",
              "      gap: 12px;\n",
              "    }\n",
              "\n",
              "    .colab-df-convert {\n",
              "      background-color: #E8F0FE;\n",
              "      border: none;\n",
              "      border-radius: 50%;\n",
              "      cursor: pointer;\n",
              "      display: none;\n",
              "      fill: #1967D2;\n",
              "      height: 32px;\n",
              "      padding: 0 0 0 0;\n",
              "      width: 32px;\n",
              "    }\n",
              "\n",
              "    .colab-df-convert:hover {\n",
              "      background-color: #E2EBFA;\n",
              "      box-shadow: 0px 1px 2px rgba(60, 64, 67, 0.3), 0px 1px 3px 1px rgba(60, 64, 67, 0.15);\n",
              "      fill: #174EA6;\n",
              "    }\n",
              "\n",
              "    .colab-df-buttons div {\n",
              "      margin-bottom: 4px;\n",
              "    }\n",
              "\n",
              "    [theme=dark] .colab-df-convert {\n",
              "      background-color: #3B4455;\n",
              "      fill: #D2E3FC;\n",
              "    }\n",
              "\n",
              "    [theme=dark] .colab-df-convert:hover {\n",
              "      background-color: #434B5C;\n",
              "      box-shadow: 0px 1px 3px 1px rgba(0, 0, 0, 0.15);\n",
              "      filter: drop-shadow(0px 1px 2px rgba(0, 0, 0, 0.3));\n",
              "      fill: #FFFFFF;\n",
              "    }\n",
              "  </style>\n",
              "\n",
              "    <script>\n",
              "      const buttonEl =\n",
              "        document.querySelector('#df-a21c4d6a-e026-48ff-8dde-0576a0da271b button.colab-df-convert');\n",
              "      buttonEl.style.display =\n",
              "        google.colab.kernel.accessAllowed ? 'block' : 'none';\n",
              "\n",
              "      async function convertToInteractive(key) {\n",
              "        const element = document.querySelector('#df-a21c4d6a-e026-48ff-8dde-0576a0da271b');\n",
              "        const dataTable =\n",
              "          await google.colab.kernel.invokeFunction('convertToInteractive',\n",
              "                                                    [key], {});\n",
              "        if (!dataTable) return;\n",
              "\n",
              "        const docLinkHtml = 'Like what you see? Visit the ' +\n",
              "          '<a target=\"_blank\" href=https://colab.research.google.com/notebooks/data_table.ipynb>data table notebook</a>'\n",
              "          + ' to learn more about interactive tables.';\n",
              "        element.innerHTML = '';\n",
              "        dataTable['output_type'] = 'display_data';\n",
              "        await google.colab.output.renderOutput(dataTable, element);\n",
              "        const docLink = document.createElement('div');\n",
              "        docLink.innerHTML = docLinkHtml;\n",
              "        element.appendChild(docLink);\n",
              "      }\n",
              "    </script>\n",
              "  </div>\n",
              "\n",
              "\n",
              "<div id=\"df-d87cf3dc-b1ea-4bcc-a20e-6b118cca7712\">\n",
              "  <button class=\"colab-df-quickchart\" onclick=\"quickchart('df-d87cf3dc-b1ea-4bcc-a20e-6b118cca7712')\"\n",
              "            title=\"Suggest charts.\"\n",
              "            style=\"display:none;\">\n",
              "\n",
              "<svg xmlns=\"http://www.w3.org/2000/svg\" height=\"24px\"viewBox=\"0 0 24 24\"\n",
              "     width=\"24px\">\n",
              "    <g>\n",
              "        <path d=\"M19 3H5c-1.1 0-2 .9-2 2v14c0 1.1.9 2 2 2h14c1.1 0 2-.9 2-2V5c0-1.1-.9-2-2-2zM9 17H7v-7h2v7zm4 0h-2V7h2v10zm4 0h-2v-4h2v4z\"/>\n",
              "    </g>\n",
              "</svg>\n",
              "  </button>\n",
              "\n",
              "<style>\n",
              "  .colab-df-quickchart {\n",
              "      --bg-color: #E8F0FE;\n",
              "      --fill-color: #1967D2;\n",
              "      --hover-bg-color: #E2EBFA;\n",
              "      --hover-fill-color: #174EA6;\n",
              "      --disabled-fill-color: #AAA;\n",
              "      --disabled-bg-color: #DDD;\n",
              "  }\n",
              "\n",
              "  [theme=dark] .colab-df-quickchart {\n",
              "      --bg-color: #3B4455;\n",
              "      --fill-color: #D2E3FC;\n",
              "      --hover-bg-color: #434B5C;\n",
              "      --hover-fill-color: #FFFFFF;\n",
              "      --disabled-bg-color: #3B4455;\n",
              "      --disabled-fill-color: #666;\n",
              "  }\n",
              "\n",
              "  .colab-df-quickchart {\n",
              "    background-color: var(--bg-color);\n",
              "    border: none;\n",
              "    border-radius: 50%;\n",
              "    cursor: pointer;\n",
              "    display: none;\n",
              "    fill: var(--fill-color);\n",
              "    height: 32px;\n",
              "    padding: 0;\n",
              "    width: 32px;\n",
              "  }\n",
              "\n",
              "  .colab-df-quickchart:hover {\n",
              "    background-color: var(--hover-bg-color);\n",
              "    box-shadow: 0 1px 2px rgba(60, 64, 67, 0.3), 0 1px 3px 1px rgba(60, 64, 67, 0.15);\n",
              "    fill: var(--button-hover-fill-color);\n",
              "  }\n",
              "\n",
              "  .colab-df-quickchart-complete:disabled,\n",
              "  .colab-df-quickchart-complete:disabled:hover {\n",
              "    background-color: var(--disabled-bg-color);\n",
              "    fill: var(--disabled-fill-color);\n",
              "    box-shadow: none;\n",
              "  }\n",
              "\n",
              "  .colab-df-spinner {\n",
              "    border: 2px solid var(--fill-color);\n",
              "    border-color: transparent;\n",
              "    border-bottom-color: var(--fill-color);\n",
              "    animation:\n",
              "      spin 1s steps(1) infinite;\n",
              "  }\n",
              "\n",
              "  @keyframes spin {\n",
              "    0% {\n",
              "      border-color: transparent;\n",
              "      border-bottom-color: var(--fill-color);\n",
              "      border-left-color: var(--fill-color);\n",
              "    }\n",
              "    20% {\n",
              "      border-color: transparent;\n",
              "      border-left-color: var(--fill-color);\n",
              "      border-top-color: var(--fill-color);\n",
              "    }\n",
              "    30% {\n",
              "      border-color: transparent;\n",
              "      border-left-color: var(--fill-color);\n",
              "      border-top-color: var(--fill-color);\n",
              "      border-right-color: var(--fill-color);\n",
              "    }\n",
              "    40% {\n",
              "      border-color: transparent;\n",
              "      border-right-color: var(--fill-color);\n",
              "      border-top-color: var(--fill-color);\n",
              "    }\n",
              "    60% {\n",
              "      border-color: transparent;\n",
              "      border-right-color: var(--fill-color);\n",
              "    }\n",
              "    80% {\n",
              "      border-color: transparent;\n",
              "      border-right-color: var(--fill-color);\n",
              "      border-bottom-color: var(--fill-color);\n",
              "    }\n",
              "    90% {\n",
              "      border-color: transparent;\n",
              "      border-bottom-color: var(--fill-color);\n",
              "    }\n",
              "  }\n",
              "</style>\n",
              "\n",
              "  <script>\n",
              "    async function quickchart(key) {\n",
              "      const quickchartButtonEl =\n",
              "        document.querySelector('#' + key + ' button');\n",
              "      quickchartButtonEl.disabled = true;  // To prevent multiple clicks.\n",
              "      quickchartButtonEl.classList.add('colab-df-spinner');\n",
              "      try {\n",
              "        const charts = await google.colab.kernel.invokeFunction(\n",
              "            'suggestCharts', [key], {});\n",
              "      } catch (error) {\n",
              "        console.error('Error during call to suggestCharts:', error);\n",
              "      }\n",
              "      quickchartButtonEl.classList.remove('colab-df-spinner');\n",
              "      quickchartButtonEl.classList.add('colab-df-quickchart-complete');\n",
              "    }\n",
              "    (() => {\n",
              "      let quickchartButtonEl =\n",
              "        document.querySelector('#df-d87cf3dc-b1ea-4bcc-a20e-6b118cca7712 button');\n",
              "      quickchartButtonEl.style.display =\n",
              "        google.colab.kernel.accessAllowed ? 'block' : 'none';\n",
              "    })();\n",
              "  </script>\n",
              "</div>\n",
              "    </div>\n",
              "  </div>\n"
            ]
          },
          "metadata": {},
          "execution_count": 8
        }
      ]
    },
    {
      "cell_type": "code",
      "source": [
        "df.drop(index=[\"Unnamed: 0\"], inplace=True)"
      ],
      "metadata": {
        "id": "yMOIYzNFJtxV"
      },
      "execution_count": 9,
      "outputs": []
    },
    {
      "cell_type": "code",
      "source": [
        "df.head()"
      ],
      "metadata": {
        "colab": {
          "base_uri": "https://localhost:8080/",
          "height": 255
        },
        "id": "YTnerlqpJv4z",
        "outputId": "8efbdeb1-25b7-430d-9e53-7f7e87e260ff"
      },
      "execution_count": 10,
      "outputs": [
        {
          "output_type": "execute_result",
          "data": {
            "text/plain": [
              "  GE_BrightCorner DarkCorner p42318_v4      p117    p28737    p17314  \\\n",
              "0        2.157974   -4.97207 -5.136246 -0.908056 -5.142836  -5.24106   \n",
              "1        1.779174  -5.079564 -5.309609 -0.279806 -5.326123 -5.431599   \n",
              "2        1.476457  -5.055798 -4.683745 -0.814316 -4.436602 -5.483527   \n",
              "3         1.63546  -5.048396 -5.058544 -0.403859   -5.1738 -5.315852   \n",
              "4        1.459245  -4.759264 -5.044792 -0.239435 -5.042362 -4.622399   \n",
              "\n",
              "  A_33_P3310047    p22477     p8225     p7095  ...    p25976    p23884  \\\n",
              "0      0.996369 -3.309695 -1.096744 -2.356272  ...  1.746663 -2.448382   \n",
              "1      1.049151  -2.68212  -0.88413 -3.141455  ...  0.961229 -2.325115   \n",
              "2      1.107679 -3.565926 -1.364489 -3.778602  ...   1.24937 -2.352775   \n",
              "3      0.922813 -3.687033 -0.971812 -2.599749  ...  1.431779 -3.219944   \n",
              "4      0.786796 -3.605453 -0.992999 -3.243779  ...  1.117545 -3.630248   \n",
              "\n",
              "  A_33_P3800496 A_21_P0006729 A_24_P284523    p11121    p26746 A_33_P3677559  \\\n",
              "0     -1.259322     -3.232127     3.164295  -0.41048 -3.946267      -3.01915   \n",
              "1     -0.878489     -2.476317     3.059818 -0.499581 -4.027231      -3.49044   \n",
              "2     -1.309131     -2.841979     2.908225   0.42274 -4.745641     -3.532535   \n",
              "3     -1.369312     -2.633309     2.667611   0.74162 -4.544183     -4.334243   \n",
              "4     -1.304075     -3.936828      2.64173  -0.62573 -4.912573     -4.216743   \n",
              "\n",
              "       p361 target_value  \n",
              "0 -1.535002          1.0  \n",
              "1 -1.432819          1.0  \n",
              "2 -1.561514          1.0  \n",
              "3 -1.536728          1.0  \n",
              "4 -1.963562          1.0  \n",
              "\n",
              "[5 rows x 65524 columns]"
            ],
            "text/html": [
              "\n",
              "  <div id=\"df-18331fdf-46fa-4e3f-9964-baa5800fce3b\" class=\"colab-df-container\">\n",
              "    <div>\n",
              "<style scoped>\n",
              "    .dataframe tbody tr th:only-of-type {\n",
              "        vertical-align: middle;\n",
              "    }\n",
              "\n",
              "    .dataframe tbody tr th {\n",
              "        vertical-align: top;\n",
              "    }\n",
              "\n",
              "    .dataframe thead th {\n",
              "        text-align: right;\n",
              "    }\n",
              "</style>\n",
              "<table border=\"1\" class=\"dataframe\">\n",
              "  <thead>\n",
              "    <tr style=\"text-align: right;\">\n",
              "      <th></th>\n",
              "      <th>GE_BrightCorner</th>\n",
              "      <th>DarkCorner</th>\n",
              "      <th>p42318_v4</th>\n",
              "      <th>p117</th>\n",
              "      <th>p28737</th>\n",
              "      <th>p17314</th>\n",
              "      <th>A_33_P3310047</th>\n",
              "      <th>p22477</th>\n",
              "      <th>p8225</th>\n",
              "      <th>p7095</th>\n",
              "      <th>...</th>\n",
              "      <th>p25976</th>\n",
              "      <th>p23884</th>\n",
              "      <th>A_33_P3800496</th>\n",
              "      <th>A_21_P0006729</th>\n",
              "      <th>A_24_P284523</th>\n",
              "      <th>p11121</th>\n",
              "      <th>p26746</th>\n",
              "      <th>A_33_P3677559</th>\n",
              "      <th>p361</th>\n",
              "      <th>target_value</th>\n",
              "    </tr>\n",
              "  </thead>\n",
              "  <tbody>\n",
              "    <tr>\n",
              "      <th>0</th>\n",
              "      <td>2.157974</td>\n",
              "      <td>-4.97207</td>\n",
              "      <td>-5.136246</td>\n",
              "      <td>-0.908056</td>\n",
              "      <td>-5.142836</td>\n",
              "      <td>-5.24106</td>\n",
              "      <td>0.996369</td>\n",
              "      <td>-3.309695</td>\n",
              "      <td>-1.096744</td>\n",
              "      <td>-2.356272</td>\n",
              "      <td>...</td>\n",
              "      <td>1.746663</td>\n",
              "      <td>-2.448382</td>\n",
              "      <td>-1.259322</td>\n",
              "      <td>-3.232127</td>\n",
              "      <td>3.164295</td>\n",
              "      <td>-0.41048</td>\n",
              "      <td>-3.946267</td>\n",
              "      <td>-3.01915</td>\n",
              "      <td>-1.535002</td>\n",
              "      <td>1.0</td>\n",
              "    </tr>\n",
              "    <tr>\n",
              "      <th>1</th>\n",
              "      <td>1.779174</td>\n",
              "      <td>-5.079564</td>\n",
              "      <td>-5.309609</td>\n",
              "      <td>-0.279806</td>\n",
              "      <td>-5.326123</td>\n",
              "      <td>-5.431599</td>\n",
              "      <td>1.049151</td>\n",
              "      <td>-2.68212</td>\n",
              "      <td>-0.88413</td>\n",
              "      <td>-3.141455</td>\n",
              "      <td>...</td>\n",
              "      <td>0.961229</td>\n",
              "      <td>-2.325115</td>\n",
              "      <td>-0.878489</td>\n",
              "      <td>-2.476317</td>\n",
              "      <td>3.059818</td>\n",
              "      <td>-0.499581</td>\n",
              "      <td>-4.027231</td>\n",
              "      <td>-3.49044</td>\n",
              "      <td>-1.432819</td>\n",
              "      <td>1.0</td>\n",
              "    </tr>\n",
              "    <tr>\n",
              "      <th>2</th>\n",
              "      <td>1.476457</td>\n",
              "      <td>-5.055798</td>\n",
              "      <td>-4.683745</td>\n",
              "      <td>-0.814316</td>\n",
              "      <td>-4.436602</td>\n",
              "      <td>-5.483527</td>\n",
              "      <td>1.107679</td>\n",
              "      <td>-3.565926</td>\n",
              "      <td>-1.364489</td>\n",
              "      <td>-3.778602</td>\n",
              "      <td>...</td>\n",
              "      <td>1.24937</td>\n",
              "      <td>-2.352775</td>\n",
              "      <td>-1.309131</td>\n",
              "      <td>-2.841979</td>\n",
              "      <td>2.908225</td>\n",
              "      <td>0.42274</td>\n",
              "      <td>-4.745641</td>\n",
              "      <td>-3.532535</td>\n",
              "      <td>-1.561514</td>\n",
              "      <td>1.0</td>\n",
              "    </tr>\n",
              "    <tr>\n",
              "      <th>3</th>\n",
              "      <td>1.63546</td>\n",
              "      <td>-5.048396</td>\n",
              "      <td>-5.058544</td>\n",
              "      <td>-0.403859</td>\n",
              "      <td>-5.1738</td>\n",
              "      <td>-5.315852</td>\n",
              "      <td>0.922813</td>\n",
              "      <td>-3.687033</td>\n",
              "      <td>-0.971812</td>\n",
              "      <td>-2.599749</td>\n",
              "      <td>...</td>\n",
              "      <td>1.431779</td>\n",
              "      <td>-3.219944</td>\n",
              "      <td>-1.369312</td>\n",
              "      <td>-2.633309</td>\n",
              "      <td>2.667611</td>\n",
              "      <td>0.74162</td>\n",
              "      <td>-4.544183</td>\n",
              "      <td>-4.334243</td>\n",
              "      <td>-1.536728</td>\n",
              "      <td>1.0</td>\n",
              "    </tr>\n",
              "    <tr>\n",
              "      <th>4</th>\n",
              "      <td>1.459245</td>\n",
              "      <td>-4.759264</td>\n",
              "      <td>-5.044792</td>\n",
              "      <td>-0.239435</td>\n",
              "      <td>-5.042362</td>\n",
              "      <td>-4.622399</td>\n",
              "      <td>0.786796</td>\n",
              "      <td>-3.605453</td>\n",
              "      <td>-0.992999</td>\n",
              "      <td>-3.243779</td>\n",
              "      <td>...</td>\n",
              "      <td>1.117545</td>\n",
              "      <td>-3.630248</td>\n",
              "      <td>-1.304075</td>\n",
              "      <td>-3.936828</td>\n",
              "      <td>2.64173</td>\n",
              "      <td>-0.62573</td>\n",
              "      <td>-4.912573</td>\n",
              "      <td>-4.216743</td>\n",
              "      <td>-1.963562</td>\n",
              "      <td>1.0</td>\n",
              "    </tr>\n",
              "  </tbody>\n",
              "</table>\n",
              "<p>5 rows × 65524 columns</p>\n",
              "</div>\n",
              "    <div class=\"colab-df-buttons\">\n",
              "\n",
              "  <div class=\"colab-df-container\">\n",
              "    <button class=\"colab-df-convert\" onclick=\"convertToInteractive('df-18331fdf-46fa-4e3f-9964-baa5800fce3b')\"\n",
              "            title=\"Convert this dataframe to an interactive table.\"\n",
              "            style=\"display:none;\">\n",
              "\n",
              "  <svg xmlns=\"http://www.w3.org/2000/svg\" height=\"24px\" viewBox=\"0 -960 960 960\">\n",
              "    <path d=\"M120-120v-720h720v720H120Zm60-500h600v-160H180v160Zm220 220h160v-160H400v160Zm0 220h160v-160H400v160ZM180-400h160v-160H180v160Zm440 0h160v-160H620v160ZM180-180h160v-160H180v160Zm440 0h160v-160H620v160Z\"/>\n",
              "  </svg>\n",
              "    </button>\n",
              "\n",
              "  <style>\n",
              "    .colab-df-container {\n",
              "      display:flex;\n",
              "      gap: 12px;\n",
              "    }\n",
              "\n",
              "    .colab-df-convert {\n",
              "      background-color: #E8F0FE;\n",
              "      border: none;\n",
              "      border-radius: 50%;\n",
              "      cursor: pointer;\n",
              "      display: none;\n",
              "      fill: #1967D2;\n",
              "      height: 32px;\n",
              "      padding: 0 0 0 0;\n",
              "      width: 32px;\n",
              "    }\n",
              "\n",
              "    .colab-df-convert:hover {\n",
              "      background-color: #E2EBFA;\n",
              "      box-shadow: 0px 1px 2px rgba(60, 64, 67, 0.3), 0px 1px 3px 1px rgba(60, 64, 67, 0.15);\n",
              "      fill: #174EA6;\n",
              "    }\n",
              "\n",
              "    .colab-df-buttons div {\n",
              "      margin-bottom: 4px;\n",
              "    }\n",
              "\n",
              "    [theme=dark] .colab-df-convert {\n",
              "      background-color: #3B4455;\n",
              "      fill: #D2E3FC;\n",
              "    }\n",
              "\n",
              "    [theme=dark] .colab-df-convert:hover {\n",
              "      background-color: #434B5C;\n",
              "      box-shadow: 0px 1px 3px 1px rgba(0, 0, 0, 0.15);\n",
              "      filter: drop-shadow(0px 1px 2px rgba(0, 0, 0, 0.3));\n",
              "      fill: #FFFFFF;\n",
              "    }\n",
              "  </style>\n",
              "\n",
              "    <script>\n",
              "      const buttonEl =\n",
              "        document.querySelector('#df-18331fdf-46fa-4e3f-9964-baa5800fce3b button.colab-df-convert');\n",
              "      buttonEl.style.display =\n",
              "        google.colab.kernel.accessAllowed ? 'block' : 'none';\n",
              "\n",
              "      async function convertToInteractive(key) {\n",
              "        const element = document.querySelector('#df-18331fdf-46fa-4e3f-9964-baa5800fce3b');\n",
              "        const dataTable =\n",
              "          await google.colab.kernel.invokeFunction('convertToInteractive',\n",
              "                                                    [key], {});\n",
              "        if (!dataTable) return;\n",
              "\n",
              "        const docLinkHtml = 'Like what you see? Visit the ' +\n",
              "          '<a target=\"_blank\" href=https://colab.research.google.com/notebooks/data_table.ipynb>data table notebook</a>'\n",
              "          + ' to learn more about interactive tables.';\n",
              "        element.innerHTML = '';\n",
              "        dataTable['output_type'] = 'display_data';\n",
              "        await google.colab.output.renderOutput(dataTable, element);\n",
              "        const docLink = document.createElement('div');\n",
              "        docLink.innerHTML = docLinkHtml;\n",
              "        element.appendChild(docLink);\n",
              "      }\n",
              "    </script>\n",
              "  </div>\n",
              "\n",
              "\n",
              "<div id=\"df-7ca3bed1-3ed3-4e3c-a21e-df23e0961d1d\">\n",
              "  <button class=\"colab-df-quickchart\" onclick=\"quickchart('df-7ca3bed1-3ed3-4e3c-a21e-df23e0961d1d')\"\n",
              "            title=\"Suggest charts.\"\n",
              "            style=\"display:none;\">\n",
              "\n",
              "<svg xmlns=\"http://www.w3.org/2000/svg\" height=\"24px\"viewBox=\"0 0 24 24\"\n",
              "     width=\"24px\">\n",
              "    <g>\n",
              "        <path d=\"M19 3H5c-1.1 0-2 .9-2 2v14c0 1.1.9 2 2 2h14c1.1 0 2-.9 2-2V5c0-1.1-.9-2-2-2zM9 17H7v-7h2v7zm4 0h-2V7h2v10zm4 0h-2v-4h2v4z\"/>\n",
              "    </g>\n",
              "</svg>\n",
              "  </button>\n",
              "\n",
              "<style>\n",
              "  .colab-df-quickchart {\n",
              "      --bg-color: #E8F0FE;\n",
              "      --fill-color: #1967D2;\n",
              "      --hover-bg-color: #E2EBFA;\n",
              "      --hover-fill-color: #174EA6;\n",
              "      --disabled-fill-color: #AAA;\n",
              "      --disabled-bg-color: #DDD;\n",
              "  }\n",
              "\n",
              "  [theme=dark] .colab-df-quickchart {\n",
              "      --bg-color: #3B4455;\n",
              "      --fill-color: #D2E3FC;\n",
              "      --hover-bg-color: #434B5C;\n",
              "      --hover-fill-color: #FFFFFF;\n",
              "      --disabled-bg-color: #3B4455;\n",
              "      --disabled-fill-color: #666;\n",
              "  }\n",
              "\n",
              "  .colab-df-quickchart {\n",
              "    background-color: var(--bg-color);\n",
              "    border: none;\n",
              "    border-radius: 50%;\n",
              "    cursor: pointer;\n",
              "    display: none;\n",
              "    fill: var(--fill-color);\n",
              "    height: 32px;\n",
              "    padding: 0;\n",
              "    width: 32px;\n",
              "  }\n",
              "\n",
              "  .colab-df-quickchart:hover {\n",
              "    background-color: var(--hover-bg-color);\n",
              "    box-shadow: 0 1px 2px rgba(60, 64, 67, 0.3), 0 1px 3px 1px rgba(60, 64, 67, 0.15);\n",
              "    fill: var(--button-hover-fill-color);\n",
              "  }\n",
              "\n",
              "  .colab-df-quickchart-complete:disabled,\n",
              "  .colab-df-quickchart-complete:disabled:hover {\n",
              "    background-color: var(--disabled-bg-color);\n",
              "    fill: var(--disabled-fill-color);\n",
              "    box-shadow: none;\n",
              "  }\n",
              "\n",
              "  .colab-df-spinner {\n",
              "    border: 2px solid var(--fill-color);\n",
              "    border-color: transparent;\n",
              "    border-bottom-color: var(--fill-color);\n",
              "    animation:\n",
              "      spin 1s steps(1) infinite;\n",
              "  }\n",
              "\n",
              "  @keyframes spin {\n",
              "    0% {\n",
              "      border-color: transparent;\n",
              "      border-bottom-color: var(--fill-color);\n",
              "      border-left-color: var(--fill-color);\n",
              "    }\n",
              "    20% {\n",
              "      border-color: transparent;\n",
              "      border-left-color: var(--fill-color);\n",
              "      border-top-color: var(--fill-color);\n",
              "    }\n",
              "    30% {\n",
              "      border-color: transparent;\n",
              "      border-left-color: var(--fill-color);\n",
              "      border-top-color: var(--fill-color);\n",
              "      border-right-color: var(--fill-color);\n",
              "    }\n",
              "    40% {\n",
              "      border-color: transparent;\n",
              "      border-right-color: var(--fill-color);\n",
              "      border-top-color: var(--fill-color);\n",
              "    }\n",
              "    60% {\n",
              "      border-color: transparent;\n",
              "      border-right-color: var(--fill-color);\n",
              "    }\n",
              "    80% {\n",
              "      border-color: transparent;\n",
              "      border-right-color: var(--fill-color);\n",
              "      border-bottom-color: var(--fill-color);\n",
              "    }\n",
              "    90% {\n",
              "      border-color: transparent;\n",
              "      border-bottom-color: var(--fill-color);\n",
              "    }\n",
              "  }\n",
              "</style>\n",
              "\n",
              "  <script>\n",
              "    async function quickchart(key) {\n",
              "      const quickchartButtonEl =\n",
              "        document.querySelector('#' + key + ' button');\n",
              "      quickchartButtonEl.disabled = true;  // To prevent multiple clicks.\n",
              "      quickchartButtonEl.classList.add('colab-df-spinner');\n",
              "      try {\n",
              "        const charts = await google.colab.kernel.invokeFunction(\n",
              "            'suggestCharts', [key], {});\n",
              "      } catch (error) {\n",
              "        console.error('Error during call to suggestCharts:', error);\n",
              "      }\n",
              "      quickchartButtonEl.classList.remove('colab-df-spinner');\n",
              "      quickchartButtonEl.classList.add('colab-df-quickchart-complete');\n",
              "    }\n",
              "    (() => {\n",
              "      let quickchartButtonEl =\n",
              "        document.querySelector('#df-7ca3bed1-3ed3-4e3c-a21e-df23e0961d1d button');\n",
              "      quickchartButtonEl.style.display =\n",
              "        google.colab.kernel.accessAllowed ? 'block' : 'none';\n",
              "    })();\n",
              "  </script>\n",
              "</div>\n",
              "    </div>\n",
              "  </div>\n"
            ]
          },
          "metadata": {},
          "execution_count": 10
        }
      ]
    },
    {
      "cell_type": "code",
      "source": [
        "# convert target value as integer\n",
        "df[\"target_value\"] = df[\"target_value\"].astype(int)"
      ],
      "metadata": {
        "id": "Ou8UXB5iJxv4"
      },
      "execution_count": 11,
      "outputs": []
    },
    {
      "cell_type": "code",
      "source": [
        "df.value_counts(\"target_value\")"
      ],
      "metadata": {
        "colab": {
          "base_uri": "https://localhost:8080/"
        },
        "id": "1Mw_50ezJzzj",
        "outputId": "a377d56c-f681-4b9d-b329-d90e69de01f0"
      },
      "execution_count": 12,
      "outputs": [
        {
          "output_type": "execute_result",
          "data": {
            "text/plain": [
              "target_value\n",
              "1    93\n",
              "0    48\n",
              "dtype: int64"
            ]
          },
          "metadata": {},
          "execution_count": 12
        }
      ]
    },
    {
      "cell_type": "code",
      "source": [
        "df.shape"
      ],
      "metadata": {
        "colab": {
          "base_uri": "https://localhost:8080/"
        },
        "id": "LUDzyXgrJ1h0",
        "outputId": "8e5cb490-d841-4040-f44c-d105baf01ef1"
      },
      "execution_count": 13,
      "outputs": [
        {
          "output_type": "execute_result",
          "data": {
            "text/plain": [
              "(141, 65524)"
            ]
          },
          "metadata": {},
          "execution_count": 13
        }
      ]
    },
    {
      "cell_type": "code",
      "source": [
        "# divide the features and target values\n",
        "X = df.drop(columns=[\"target_value\"])\n",
        "y = df[\"target_value\"]"
      ],
      "metadata": {
        "id": "gblD0rldJ37x"
      },
      "execution_count": 14,
      "outputs": []
    },
    {
      "cell_type": "code",
      "source": [
        "X.shape"
      ],
      "metadata": {
        "colab": {
          "base_uri": "https://localhost:8080/"
        },
        "id": "j-tzE3MVJ6W1",
        "outputId": "5a294583-a8bb-41b5-c904-2f3de685d92b"
      },
      "execution_count": 15,
      "outputs": [
        {
          "output_type": "execute_result",
          "data": {
            "text/plain": [
              "(141, 65523)"
            ]
          },
          "metadata": {},
          "execution_count": 15
        }
      ]
    },
    {
      "cell_type": "code",
      "source": [
        "y.shape"
      ],
      "metadata": {
        "colab": {
          "base_uri": "https://localhost:8080/"
        },
        "id": "SdoCYaMSJ77k",
        "outputId": "fc7ae04d-33ef-4a14-afd0-46471d60a679"
      },
      "execution_count": 16,
      "outputs": [
        {
          "output_type": "execute_result",
          "data": {
            "text/plain": [
              "(141,)"
            ]
          },
          "metadata": {},
          "execution_count": 16
        }
      ]
    },
    {
      "cell_type": "code",
      "source": [
        "# build the decision tree models\n",
        "# first try the 100 features selected using mutual information"
      ],
      "metadata": {
        "id": "1ZN8Tr5UJ9xs"
      },
      "execution_count": 17,
      "outputs": []
    },
    {
      "cell_type": "code",
      "source": [
        "# feature selection using mutual information\n",
        "import numpy as np\n",
        "from sklearn.feature_selection import mutual_info_classif\n",
        "from sklearn.feature_selection import SelectKBest\n",
        "\n",
        "# mutual information selector\n",
        "mi_classi_100 = SelectKBest(score_func=mutual_info_classif, k=100)\n",
        "\n",
        "# apply the mutual information selector on the dataset\n",
        "X_MI_100 = mi_classi_100.fit_transform(X, y)\n",
        "\n",
        "# get the selected 100 features\n",
        "selected_features_100 = mi_classi_100.get_support()\n",
        "\n",
        "# feature names of selected features\n",
        "selected_feature_names_100 = X.columns[selected_features_100]\n",
        "\n",
        "X_new_100 = X[selected_feature_names_100]\n",
        "\n",
        "print(\"Shape of X_new_100: \", X_new_100.shape)\n",
        "\n",
        "# divide the dataset to train 0.8 and test 0.2\n",
        "from sklearn.model_selection import train_test_split\n",
        "X_train, X_test, y_train, y_test = train_test_split(X_new_100, y, test_size=0.2, random_state=42)\n",
        "\n",
        "# create Decision Tree classifier and train the data\n",
        "from sklearn.tree import DecisionTreeClassifier\n",
        "tree_classifier_100 = DecisionTreeClassifier(random_state=42)\n",
        "tree_classifier_100.fit(X_train, y_train)\n",
        "\n",
        "# test the model on test set\n",
        "y_pred_100 = tree_classifier_100.predict(X_test)\n",
        "y_pred_100\n",
        "\n",
        "# evaluate the model using accuracy, classification_report and sensitivity\n",
        "from sklearn.metrics import confusion_matrix\n",
        "from sklearn.metrics import accuracy_score\n",
        "from sklearn.metrics import classification_report\n",
        "\n",
        "# let's check the accuracy of the model\n",
        "accuracy_tree_100_MI = accuracy_score(y_test, y_pred_100)\n",
        "print(f\"Accuracy of the MI 100 Decision Tree model is: {round(accuracy_tree_100_MI*100, 3)}%\")\n",
        "\n",
        "# confusion matrix of the model\n",
        "confusion_matrix_tree_100_MI = confusion_matrix(y_test, y_pred_100)\n",
        "\n",
        "TP_tree_100 = confusion_matrix_tree_100_MI[1, 1]  # True Positives\n",
        "FN_tree_100 = confusion_matrix_tree_100_MI[1, 0]  # False Negatives\n",
        "\n",
        "# Calculate Sensitivity (True Positive Rate or Recall)\n",
        "sensitivity_tree_100 = TP_tree_100 / (TP_tree_100 + FN_tree_100)\n",
        "print(f\"Sensitivity for 100 features and Decision Tree model (True Positive Rate): {round(sensitivity_tree_100*100, 3)}%\")\n",
        "\n",
        "# print the confusion matrix\n",
        "print(\"Confusion matrix of the MI 100 Decision Tree model is: \")\n",
        "print(confusion_matrix_tree_100_MI)\n",
        "\n",
        "# classification report for the\n",
        "report_tree_100 = classification_report(y_test, y_pred_100)\n",
        "print(\"Classification report of MI 100 Decision Tree model is: \")\n",
        "print(report_tree_100)"
      ],
      "metadata": {
        "colab": {
          "base_uri": "https://localhost:8080/"
        },
        "id": "ngSoO7VRKDOq",
        "outputId": "e873711b-3c13-4e09-b747-375ee8142b04"
      },
      "execution_count": 18,
      "outputs": [
        {
          "output_type": "stream",
          "name": "stdout",
          "text": [
            "Shape of X_new_100:  (141, 100)\n",
            "Accuracy of the MI 100 Decision Tree model is: 89.655%\n",
            "Sensitivity for 100 features and Decision Tree model (True Positive Rate): 100.0%\n",
            "Confusion matrix of the MI 100 Decision Tree model is: \n",
            "[[11  3]\n",
            " [ 0 15]]\n",
            "Classification report of MI 100 Decision Tree model is: \n",
            "              precision    recall  f1-score   support\n",
            "\n",
            "           0       1.00      0.79      0.88        14\n",
            "           1       0.83      1.00      0.91        15\n",
            "\n",
            "    accuracy                           0.90        29\n",
            "   macro avg       0.92      0.89      0.89        29\n",
            "weighted avg       0.91      0.90      0.90        29\n",
            "\n"
          ]
        }
      ]
    },
    {
      "cell_type": "code",
      "source": [
        "# now let's plot the tree"
      ],
      "metadata": {
        "id": "rSboUdY5MRcU"
      },
      "execution_count": 19,
      "outputs": []
    },
    {
      "cell_type": "code",
      "source": [
        "from sklearn.tree import plot_tree\n",
        "import matplotlib.pyplot as plt\n",
        "\n",
        "# class_names = [\"CAD Patients\", \"Healthy Controls\"]\n",
        "\n",
        "plt.figure(figsize=(12, 8))\n",
        "plot_tree(tree_classifier_100, filled=True, feature_names=selected_feature_names_100, class_names=True)\n",
        "plt.show()"
      ],
      "metadata": {
        "colab": {
          "base_uri": "https://localhost:8080/",
          "height": 653
        },
        "id": "ykADx07hLgNs",
        "outputId": "7ba9a8b2-f2cf-4d47-fb74-93560c51ff8f"
      },
      "execution_count": 20,
      "outputs": [
        {
          "output_type": "display_data",
          "data": {
            "text/plain": [
              "<Figure size 1200x800 with 1 Axes>"
            ],
            "image/png": "[encoded data removed]"
          },
          "metadata": {}
        }
      ]
    },
    {
      "cell_type": "code",
      "source": [
        "# cross validation"
      ],
      "metadata": {
        "id": "5RIDiwBwM_xC"
      },
      "execution_count": 21,
      "outputs": []
    },
    {
      "cell_type": "code",
      "source": [
        "# first try for k = 5"
      ],
      "metadata": {
        "id": "eSOfsDLrNPJH"
      },
      "execution_count": 22,
      "outputs": []
    },
    {
      "cell_type": "code",
      "source": [
        "from sklearn.model_selection import cross_val_score, KFold\n",
        "\n",
        "print(\"5-fold Cross Validation\")\n",
        "\n",
        "# assign the model built earlier to variable model\n",
        "model = tree_classifier_100\n",
        "\n",
        "# Define the number of folds (k) for cross-validation\n",
        "k = 5\n",
        "\n",
        "# Create a cross-validation object (K-Fold cross-validator)\n",
        "kf = KFold(n_splits=k, shuffle=True, random_state=42)\n",
        "\n",
        "# Perform k-fold cross-validation and get the cross-validation scores\n",
        "# we use accuracy as the scoring metric here\n",
        "scores = cross_val_score(model, X_new_100, y, cv=kf, scoring='accuracy')\n",
        "\n",
        "# Print the cross-validation scores\n",
        "print(\"Cross-Validation Scores:\", scores)\n",
        "\n",
        "# Calculate and print the mean and standard deviation of the scores\n",
        "print(f\"Mean Accuracy: {round(scores.mean()*100, 3)}%\")\n",
        "print(f\"Standard Deviation: {round(scores.std()*100, 3)}%\")"
      ],
      "metadata": {
        "colab": {
          "base_uri": "https://localhost:8080/"
        },
        "id": "0hBEvXufNQu3",
        "outputId": "c1d82fd9-0547-4d23-be81-fe92b7fe29a7"
      },
      "execution_count": 23,
      "outputs": [
        {
          "output_type": "stream",
          "name": "stdout",
          "text": [
            "5-fold Cross Validation\n",
            "Cross-Validation Scores: [0.89655172 0.89285714 0.96428571 0.96428571 0.92857143]\n",
            "Mean Accuracy: 92.931%\n",
            "Standard Deviation: 3.114%\n"
          ]
        }
      ]
    },
    {
      "cell_type": "code",
      "source": [
        "# now let's do for k = 8"
      ],
      "metadata": {
        "id": "29N81Pn-NYM7"
      },
      "execution_count": 24,
      "outputs": []
    },
    {
      "cell_type": "code",
      "source": [
        "from sklearn.model_selection import cross_val_score, KFold\n",
        "\n",
        "print(\"8-fold Cross Validation\")\n",
        "\n",
        "# assign the model built earlier to variable model\n",
        "model = tree_classifier_100\n",
        "\n",
        "# Define the number of folds (k) for cross-validation\n",
        "k = 8\n",
        "\n",
        "# Create a cross-validation object (K-Fold cross-validator)\n",
        "kf = KFold(n_splits=k, shuffle=True, random_state=42)\n",
        "\n",
        "# Perform k-fold cross-validation and get the cross-validation scores\n",
        "# we use accuracy as the scoring metric here\n",
        "scores = cross_val_score(model, X_new_100, y, cv=kf, scoring='accuracy')\n",
        "\n",
        "# Print the cross-validation scores\n",
        "print(\"Cross-Validation Scores:\", scores)\n",
        "\n",
        "# Calculate and print the mean and standard deviation of the scores\n",
        "print(f\"Mean Accuracy: {round(scores.mean()*100, 3)}%\")\n",
        "print(f\"Standard Deviation: {round(scores.std()*100, 3)}%\")"
      ],
      "metadata": {
        "colab": {
          "base_uri": "https://localhost:8080/"
        },
        "id": "vSwKEDOxNcRQ",
        "outputId": "7ec1d950-542e-4439-e785-52f048633b4f"
      },
      "execution_count": 25,
      "outputs": [
        {
          "output_type": "stream",
          "name": "stdout",
          "text": [
            "8-fold Cross Validation\n",
            "Cross-Validation Scores: [0.94444444 0.94444444 0.83333333 0.94444444 0.94444444 0.94117647\n",
            " 0.94117647 0.94117647]\n",
            "Mean Accuracy: 92.933%\n",
            "Standard Deviation: 3.631%\n"
          ]
        }
      ]
    },
    {
      "cell_type": "code",
      "source": [
        "# let's try with k = 10"
      ],
      "metadata": {
        "id": "JcPy54HKNhuh"
      },
      "execution_count": 26,
      "outputs": []
    },
    {
      "cell_type": "code",
      "source": [
        "from sklearn.model_selection import cross_val_score, KFold\n",
        "\n",
        "print(\"10-fold Cross Validation\")\n",
        "\n",
        "# assign the model built earlier to variable model\n",
        "model = tree_classifier_100\n",
        "\n",
        "# Define the number of folds (k) for cross-validation\n",
        "k = 10\n",
        "\n",
        "# Create a cross-validation object (K-Fold cross-validator)\n",
        "kf = KFold(n_splits=k, shuffle=True, random_state=42)\n",
        "\n",
        "# Perform k-fold cross-validation and get the cross-validation scores\n",
        "# we use accuracy as the scoring metric here\n",
        "scores = cross_val_score(model, X_new_100, y, cv=kf, scoring='accuracy')\n",
        "\n",
        "# Print the cross-validation scores\n",
        "print(\"Cross-Validation Scores:\", scores)\n",
        "\n",
        "# Calculate and print the mean and standard deviation of the scores\n",
        "print(f\"Mean Accuracy: {round(scores.mean()*100, 3)}%\")\n",
        "print(f\"Standard Deviation: {round(scores.std()*100, 3)}%\")"
      ],
      "metadata": {
        "colab": {
          "base_uri": "https://localhost:8080/"
        },
        "id": "GnmL1VeANk3-",
        "outputId": "ab3d5a58-6c40-4930-c6ae-5a922dbd2bed"
      },
      "execution_count": 27,
      "outputs": [
        {
          "output_type": "stream",
          "name": "stdout",
          "text": [
            "10-fold Cross Validation\n",
            "Cross-Validation Scores: [0.93333333 0.92857143 1.         1.         1.         0.92857143\n",
            " 1.         0.92857143 0.92857143 0.92857143]\n",
            "Mean Accuracy: 95.762%\n",
            "Standard Deviation: 3.463%\n"
          ]
        }
      ]
    },
    {
      "cell_type": "code",
      "source": [
        "# let's change the criterian and see how it's performing"
      ],
      "metadata": {
        "id": "SuvES5jxNrPI"
      },
      "execution_count": 28,
      "outputs": []
    },
    {
      "cell_type": "code",
      "source": [
        "# feature selection using mutual information\n",
        "import numpy as np\n",
        "from sklearn.feature_selection import mutual_info_classif\n",
        "from sklearn.feature_selection import SelectKBest\n",
        "\n",
        "# mutual information selector\n",
        "mi_classi_100 = SelectKBest(score_func=mutual_info_classif, k=100)\n",
        "\n",
        "# apply the mutual information selector on the dataset\n",
        "X_MI_100 = mi_classi_100.fit_transform(X, y)\n",
        "\n",
        "# get the selected 100 features\n",
        "selected_features_100 = mi_classi_100.get_support()\n",
        "\n",
        "# feature names of selected features\n",
        "selected_feature_names_100 = X.columns[selected_features_100]\n",
        "\n",
        "X_new_100 = X[selected_feature_names_100]\n",
        "\n",
        "print(\"Shape of X_new_100: \", X_new_100.shape)\n",
        "\n",
        "# divide the dataset to train 0.8 and test 0.2\n",
        "from sklearn.model_selection import train_test_split\n",
        "X_train, X_test, y_train, y_test = train_test_split(X_new_100, y, test_size=0.2, random_state=42)\n",
        "\n",
        "# create Decision Tree classifier and train the data\n",
        "from sklearn.tree import DecisionTreeClassifier\n",
        "tree_classifier_100 = DecisionTreeClassifier(criterion='entropy', random_state=42)\n",
        "tree_classifier_100.fit(X_train, y_train)\n",
        "\n",
        "# test the model on test set\n",
        "y_pred_100 = tree_classifier_100.predict(X_test)\n",
        "y_pred_100\n",
        "\n",
        "# evaluate the model using accuracy, classification_report and sensitivity\n",
        "from sklearn.metrics import confusion_matrix\n",
        "from sklearn.metrics import accuracy_score\n",
        "from sklearn.metrics import classification_report\n",
        "\n",
        "# let's check the accuracy of the model\n",
        "accuracy_tree_100_MI = accuracy_score(y_test, y_pred_100)\n",
        "print(f\"Accuracy of the MI 100 Decision Tree model is: {round(accuracy_tree_100_MI*100, 3)}%\")\n",
        "\n",
        "# confusion matrix of the model\n",
        "confusion_matrix_tree_100_MI = confusion_matrix(y_test, y_pred_100)\n",
        "\n",
        "TP_tree_100 = confusion_matrix_tree_100_MI[1, 1]  # True Positives\n",
        "FN_tree_100 = confusion_matrix_tree_100_MI[1, 0]  # False Negatives\n",
        "\n",
        "# Calculate Sensitivity (True Positive Rate or Recall)\n",
        "sensitivity_tree_100 = TP_tree_100 / (TP_tree_100 + FN_tree_100)\n",
        "print(f\"Sensitivity for 100 features and Decision Tree model (True Positive Rate): {round(sensitivity_tree_100*100, 3)}%\")\n",
        "\n",
        "# print the confusion matrix\n",
        "print(\"Confusion matrix of the MI 100 Decision Tree model is: \")\n",
        "print(confusion_matrix_tree_100_MI)\n",
        "\n",
        "# classification report for the\n",
        "report_tree_100 = classification_report(y_test, y_pred_100)\n",
        "print(\"Classification report of MI 100 Decision Tree model is: \")\n",
        "print(report_tree_100)"
      ],
      "metadata": {
        "colab": {
          "base_uri": "https://localhost:8080/"
        },
        "id": "DXnMHigTQ9Ca",
        "outputId": "a83ed215-7377-41c0-d98e-4729b41cfbe7"
      },
      "execution_count": 29,
      "outputs": [
        {
          "output_type": "stream",
          "name": "stdout",
          "text": [
            "Shape of X_new_100:  (141, 100)\n",
            "Accuracy of the MI 100 Decision Tree model is: 89.655%\n",
            "Sensitivity for 100 features and Decision Tree model (True Positive Rate): 100.0%\n",
            "Confusion matrix of the MI 100 Decision Tree model is: \n",
            "[[11  3]\n",
            " [ 0 15]]\n",
            "Classification report of MI 100 Decision Tree model is: \n",
            "              precision    recall  f1-score   support\n",
            "\n",
            "           0       1.00      0.79      0.88        14\n",
            "           1       0.83      1.00      0.91        15\n",
            "\n",
            "    accuracy                           0.90        29\n",
            "   macro avg       0.92      0.89      0.89        29\n",
            "weighted avg       0.91      0.90      0.90        29\n",
            "\n"
          ]
        }
      ]
    },
    {
      "cell_type": "code",
      "source": [
        "# now let's plot the tree"
      ],
      "metadata": {
        "id": "f1cGMw1uRDzf"
      },
      "execution_count": 30,
      "outputs": []
    },
    {
      "cell_type": "code",
      "source": [
        "from sklearn.tree import plot_tree\n",
        "import matplotlib.pyplot as plt\n",
        "\n",
        "# class_names = [\"CAD Patients\", \"Healthy Controls\"]\n",
        "\n",
        "plt.figure(figsize=(12, 8))\n",
        "plot_tree(tree_classifier_100, filled=True, feature_names=selected_feature_names_100, class_names=True)\n",
        "plt.show()"
      ],
      "metadata": {
        "colab": {
          "base_uri": "https://localhost:8080/",
          "height": 653
        },
        "id": "407n9TEPR0n7",
        "outputId": "a9f2db35-1847-43d8-e0e1-d57babf8fcb2"
      },
      "execution_count": 31,
      "outputs": [
        {
          "output_type": "display_data",
          "data": {
            "text/plain": [
              "<Figure size 1200x800 with 1 Axes>"
            ],
            "image/png": "[encoded data removed]"
          },
          "metadata": {}
        }
      ]
    },
    {
      "cell_type": "code",
      "source": [
        "# cross validation"
      ],
      "metadata": {
        "id": "8CoFc-JmR5F3"
      },
      "execution_count": 32,
      "outputs": []
    },
    {
      "cell_type": "code",
      "source": [
        "# first try for k = 5"
      ],
      "metadata": {
        "id": "mBf2RDYGR_Pt"
      },
      "execution_count": 33,
      "outputs": []
    },
    {
      "cell_type": "code",
      "source": [
        "from sklearn.model_selection import cross_val_score, KFold\n",
        "\n",
        "print(\"5-fold Cross Validation\")\n",
        "\n",
        "# assign the model built earlier to variable model\n",
        "model = tree_classifier_100\n",
        "\n",
        "# Define the number of folds (k) for cross-validation\n",
        "k = 5\n",
        "\n",
        "# Create a cross-validation object (K-Fold cross-validator)\n",
        "kf = KFold(n_splits=k, shuffle=True, random_state=42)\n",
        "\n",
        "# Perform k-fold cross-validation and get the cross-validation scores\n",
        "# we use accuracy as the scoring metric here\n",
        "scores = cross_val_score(model, X_new_100, y, cv=kf, scoring='accuracy')\n",
        "\n",
        "# Print the cross-validation scores\n",
        "print(\"Cross-Validation Scores:\", scores)\n",
        "\n",
        "# Calculate and print the mean and standard deviation of the scores\n",
        "print(f\"Mean Accuracy: {round(scores.mean()*100, 3)}%\")\n",
        "print(f\"Standard Deviation: {round(scores.std()*100, 3)}%\")"
      ],
      "metadata": {
        "colab": {
          "base_uri": "https://localhost:8080/"
        },
        "id": "JHUSuvd3SCTQ",
        "outputId": "01a844c8-35f7-4649-abd6-96d013b24868"
      },
      "execution_count": 34,
      "outputs": [
        {
          "output_type": "stream",
          "name": "stdout",
          "text": [
            "5-fold Cross Validation\n",
            "Cross-Validation Scores: [0.89655172 0.89285714 0.96428571 0.92857143 0.92857143]\n",
            "Mean Accuracy: 92.217%\n",
            "Standard Deviation: 2.597%\n"
          ]
        }
      ]
    },
    {
      "cell_type": "code",
      "source": [
        "# first try for k = 8"
      ],
      "metadata": {
        "id": "4baoWtN1SGoa"
      },
      "execution_count": 35,
      "outputs": []
    },
    {
      "cell_type": "code",
      "source": [
        "from sklearn.model_selection import cross_val_score, KFold\n",
        "\n",
        "print(\"8-fold Cross Validation\")\n",
        "\n",
        "# assign the model built earlier to variable model\n",
        "model = tree_classifier_100\n",
        "\n",
        "# Define the number of folds (k) for cross-validation\n",
        "k = 8\n",
        "\n",
        "# Create a cross-validation object (K-Fold cross-validator)\n",
        "kf = KFold(n_splits=k, shuffle=True, random_state=42)\n",
        "\n",
        "# Perform k-fold cross-validation and get the cross-validation scores\n",
        "# we use accuracy as the scoring metric here\n",
        "scores = cross_val_score(model, X_new_100, y, cv=kf, scoring='accuracy')\n",
        "\n",
        "# Print the cross-validation scores\n",
        "print(\"Cross-Validation Scores:\", scores)\n",
        "\n",
        "# Calculate and print the mean and standard deviation of the scores\n",
        "print(f\"Mean Accuracy: {round(scores.mean()*100, 3)}%\")\n",
        "print(f\"Standard Deviation: {round(scores.std()*100, 3)}%\")"
      ],
      "metadata": {
        "colab": {
          "base_uri": "https://localhost:8080/"
        },
        "id": "iEkGgmsjSKeK",
        "outputId": "caf7d78d-6eb8-4c03-a421-45616376b9ac"
      },
      "execution_count": 37,
      "outputs": [
        {
          "output_type": "stream",
          "name": "stdout",
          "text": [
            "8-fold Cross Validation\n",
            "Cross-Validation Scores: [0.94444444 0.94444444 0.88888889 0.88888889 0.94444444 0.88235294\n",
            " 1.         0.94117647]\n",
            "Mean Accuracy: 92.933%\n",
            "Standard Deviation: 3.758%\n"
          ]
        }
      ]
    },
    {
      "cell_type": "code",
      "source": [
        "# first try for k = 10"
      ],
      "metadata": {
        "id": "x0HRq72XSPR3"
      },
      "execution_count": 38,
      "outputs": []
    },
    {
      "cell_type": "code",
      "source": [
        "from sklearn.model_selection import cross_val_score, KFold\n",
        "\n",
        "print(\"10-fold Cross Validation\")\n",
        "\n",
        "# assign the model built earlier to variable model\n",
        "model = tree_classifier_100\n",
        "\n",
        "# Define the number of folds (k) for cross-validation\n",
        "k = 10\n",
        "\n",
        "# Create a cross-validation object (K-Fold cross-validator)\n",
        "kf = KFold(n_splits=k, shuffle=True, random_state=42)\n",
        "\n",
        "# Perform k-fold cross-validation and get the cross-validation scores\n",
        "# we use accuracy as the scoring metric here\n",
        "scores = cross_val_score(model, X_new_100, y, cv=kf, scoring='accuracy')\n",
        "\n",
        "# Print the cross-validation scores\n",
        "print(\"Cross-Validation Scores:\", scores)\n",
        "\n",
        "# Calculate and print the mean and standard deviation of the scores\n",
        "print(f\"Mean Accuracy: {round(scores.mean()*100, 3)}%\")\n",
        "print(f\"Standard Deviation: {round(scores.std()*100, 3)}%\")"
      ],
      "metadata": {
        "colab": {
          "base_uri": "https://localhost:8080/"
        },
        "id": "QTIt-Eg7SQGr",
        "outputId": "9327bc44-9a6e-4413-da39-158b8e9a8129"
      },
      "execution_count": 39,
      "outputs": [
        {
          "output_type": "stream",
          "name": "stdout",
          "text": [
            "10-fold Cross Validation\n",
            "Cross-Validation Scores: [0.93333333 0.92857143 0.92857143 1.         1.         0.92857143\n",
            " 1.         0.92857143 1.         0.92857143]\n",
            "Mean Accuracy: 95.762%\n",
            "Standard Deviation: 3.463%\n"
          ]
        }
      ]
    },
    {
      "cell_type": "code",
      "source": [
        "# let's change the criterian to log_loss and see how it's performing"
      ],
      "metadata": {
        "id": "okfjkdbfSVxX"
      },
      "execution_count": 40,
      "outputs": []
    },
    {
      "cell_type": "code",
      "source": [
        "# feature selection using mutual information\n",
        "import numpy as np\n",
        "from sklearn.feature_selection import mutual_info_classif\n",
        "from sklearn.feature_selection import SelectKBest\n",
        "\n",
        "# mutual information selector\n",
        "mi_classi_100 = SelectKBest(score_func=mutual_info_classif, k=100)\n",
        "\n",
        "# apply the mutual information selector on the dataset\n",
        "X_MI_100 = mi_classi_100.fit_transform(X, y)\n",
        "\n",
        "# get the selected 100 features\n",
        "selected_features_100 = mi_classi_100.get_support()\n",
        "\n",
        "# feature names of selected features\n",
        "selected_feature_names_100 = X.columns[selected_features_100]\n",
        "\n",
        "X_new_100 = X[selected_feature_names_100]\n",
        "\n",
        "print(\"Shape of X_new_100: \", X_new_100.shape)\n",
        "\n",
        "# divide the dataset to train 0.8 and test 0.2\n",
        "from sklearn.model_selection import train_test_split\n",
        "X_train, X_test, y_train, y_test = train_test_split(X_new_100, y, test_size=0.2, random_state=42)\n",
        "\n",
        "# create Decision Tree classifier and train the data\n",
        "from sklearn.tree import DecisionTreeClassifier\n",
        "tree_classifier_100 = DecisionTreeClassifier(criterion='log_loss', random_state=42)\n",
        "tree_classifier_100.fit(X_train, y_train)\n",
        "\n",
        "# test the model on test set\n",
        "y_pred_100 = tree_classifier_100.predict(X_test)\n",
        "y_pred_100\n",
        "\n",
        "# evaluate the model using accuracy, classification_report and sensitivity\n",
        "from sklearn.metrics import confusion_matrix\n",
        "from sklearn.metrics import accuracy_score\n",
        "from sklearn.metrics import classification_report\n",
        "\n",
        "# let's check the accuracy of the model\n",
        "accuracy_tree_100_MI = accuracy_score(y_test, y_pred_100)\n",
        "print(f\"Accuracy of the MI 100 Decision Tree model is: {round(accuracy_tree_100_MI*100, 3)}%\")\n",
        "\n",
        "# confusion matrix of the model\n",
        "confusion_matrix_tree_100_MI = confusion_matrix(y_test, y_pred_100)\n",
        "\n",
        "TP_tree_100 = confusion_matrix_tree_100_MI[1, 1]  # True Positives\n",
        "FN_tree_100 = confusion_matrix_tree_100_MI[1, 0]  # False Negatives\n",
        "\n",
        "# Calculate Sensitivity (True Positive Rate or Recall)\n",
        "sensitivity_tree_100 = TP_tree_100 / (TP_tree_100 + FN_tree_100)\n",
        "print(f\"Sensitivity for 100 features and Decision Tree model (True Positive Rate): {round(sensitivity_tree_100*100, 3)}%\")\n",
        "\n",
        "# print the confusion matrix\n",
        "print(\"Confusion matrix of the MI 100 Decision Tree model is: \")\n",
        "print(confusion_matrix_tree_100_MI)\n",
        "\n",
        "# classification report for the\n",
        "report_tree_100 = classification_report(y_test, y_pred_100)\n",
        "print(\"Classification report of MI 100 Decision Tree model is: \")\n",
        "print(report_tree_100)"
      ],
      "metadata": {
        "colab": {
          "base_uri": "https://localhost:8080/"
        },
        "id": "TEA6aWHnS_OT",
        "outputId": "39a9e791-e587-4946-97d1-42d215ff3e12"
      },
      "execution_count": 41,
      "outputs": [
        {
          "output_type": "stream",
          "name": "stdout",
          "text": [
            "Shape of X_new_100:  (141, 100)\n",
            "Accuracy of the MI 100 Decision Tree model is: 89.655%\n",
            "Sensitivity for 100 features and Decision Tree model (True Positive Rate): 100.0%\n",
            "Confusion matrix of the MI 100 Decision Tree model is: \n",
            "[[11  3]\n",
            " [ 0 15]]\n",
            "Classification report of MI 100 Decision Tree model is: \n",
            "              precision    recall  f1-score   support\n",
            "\n",
            "           0       1.00      0.79      0.88        14\n",
            "           1       0.83      1.00      0.91        15\n",
            "\n",
            "    accuracy                           0.90        29\n",
            "   macro avg       0.92      0.89      0.89        29\n",
            "weighted avg       0.91      0.90      0.90        29\n",
            "\n"
          ]
        }
      ]
    },
    {
      "cell_type": "code",
      "source": [
        "# now let's plot the tree"
      ],
      "metadata": {
        "id": "NkjRUc4iTHgc"
      },
      "execution_count": 42,
      "outputs": []
    },
    {
      "cell_type": "code",
      "source": [
        "from sklearn.tree import plot_tree\n",
        "import matplotlib.pyplot as plt\n",
        "\n",
        "# class_names = [\"CAD Patients\", \"Healthy Controls\"]\n",
        "\n",
        "plt.figure(figsize=(12, 8))\n",
        "plot_tree(tree_classifier_100, filled=True, feature_names=selected_feature_names_100, class_names=True)\n",
        "plt.show()"
      ],
      "metadata": {
        "colab": {
          "base_uri": "https://localhost:8080/",
          "height": 653
        },
        "id": "9HwAirUOTLjR",
        "outputId": "9a391574-38bc-41eb-e6fd-9d74cb70a4ef"
      },
      "execution_count": 43,
      "outputs": [
        {
          "output_type": "display_data",
          "data": {
            "text/plain": [
              "<Figure size 1200x800 with 1 Axes>"
            ],
            "image/png": "[encoded data removed]"
          },
          "metadata": {}
        }
      ]
    },
    {
      "cell_type": "code",
      "source": [
        "# cross validation"
      ],
      "metadata": {
        "id": "WqjgJ3pxTLf3"
      },
      "execution_count": 44,
      "outputs": []
    },
    {
      "cell_type": "code",
      "source": [
        "# first try for k = 5"
      ],
      "metadata": {
        "id": "Lzw3v9seTLcc"
      },
      "execution_count": 45,
      "outputs": []
    },
    {
      "cell_type": "code",
      "source": [
        "from sklearn.model_selection import cross_val_score, KFold\n",
        "\n",
        "print(\"5-fold Cross Validation\")\n",
        "\n",
        "# assign the model built earlier to variable model\n",
        "model = tree_classifier_100\n",
        "\n",
        "# Define the number of folds (k) for cross-validation\n",
        "k = 5\n",
        "\n",
        "# Create a cross-validation object (K-Fold cross-validator)\n",
        "kf = KFold(n_splits=k, shuffle=True, random_state=42)\n",
        "\n",
        "# Perform k-fold cross-validation and get the cross-validation scores\n",
        "# we use accuracy as the scoring metric here\n",
        "scores = cross_val_score(model, X_new_100, y, cv=kf, scoring='accuracy')\n",
        "\n",
        "# Print the cross-validation scores\n",
        "print(\"Cross-Validation Scores:\", scores)\n",
        "\n",
        "# Calculate and print the mean and standard deviation of the scores\n",
        "print(f\"Mean Accuracy: {round(scores.mean()*100, 3)}%\")\n",
        "print(f\"Standard Deviation: {round(scores.std()*100, 3)}%\")"
      ],
      "metadata": {
        "colab": {
          "base_uri": "https://localhost:8080/"
        },
        "id": "tbeAsN4ZTLZU",
        "outputId": "cbf7a528-14d6-4f83-bbc5-3683540af948"
      },
      "execution_count": 46,
      "outputs": [
        {
          "output_type": "stream",
          "name": "stdout",
          "text": [
            "5-fold Cross Validation\n",
            "Cross-Validation Scores: [0.89655172 0.89285714 0.96428571 0.92857143 0.92857143]\n",
            "Mean Accuracy: 92.217%\n",
            "Standard Deviation: 2.597%\n"
          ]
        }
      ]
    },
    {
      "cell_type": "code",
      "source": [
        "# first try for k = 8"
      ],
      "metadata": {
        "id": "Q5wPex9PTU_d"
      },
      "execution_count": 47,
      "outputs": []
    },
    {
      "cell_type": "code",
      "source": [
        "from sklearn.model_selection import cross_val_score, KFold\n",
        "\n",
        "print(\"8-fold Cross Validation\")\n",
        "\n",
        "# assign the model built earlier to variable model\n",
        "model = tree_classifier_100\n",
        "\n",
        "# Define the number of folds (k) for cross-validation\n",
        "k = 8\n",
        "\n",
        "# Create a cross-validation object (K-Fold cross-validator)\n",
        "kf = KFold(n_splits=k, shuffle=True, random_state=42)\n",
        "\n",
        "# Perform k-fold cross-validation and get the cross-validation scores\n",
        "# we use accuracy as the scoring metric here\n",
        "scores = cross_val_score(model, X_new_100, y, cv=kf, scoring='accuracy')\n",
        "\n",
        "# Print the cross-validation scores\n",
        "print(\"Cross-Validation Scores:\", scores)\n",
        "\n",
        "# Calculate and print the mean and standard deviation of the scores\n",
        "print(f\"Mean Accuracy: {round(scores.mean()*100, 3)}%\")\n",
        "print(f\"Standard Deviation: {round(scores.std()*100, 3)}%\")"
      ],
      "metadata": {
        "colab": {
          "base_uri": "https://localhost:8080/"
        },
        "id": "rDNT05mFTYs6",
        "outputId": "85cd7236-8959-49ce-ae64-4bca2c9f766a"
      },
      "execution_count": 48,
      "outputs": [
        {
          "output_type": "stream",
          "name": "stdout",
          "text": [
            "8-fold Cross Validation\n",
            "Cross-Validation Scores: [0.94444444 0.94444444 0.88888889 0.88888889 0.94444444 0.88235294\n",
            " 1.         0.94117647]\n",
            "Mean Accuracy: 92.933%\n",
            "Standard Deviation: 3.758%\n"
          ]
        }
      ]
    },
    {
      "cell_type": "code",
      "source": [
        "# first try for k = 10"
      ],
      "metadata": {
        "id": "5nxe3la0TU83"
      },
      "execution_count": 49,
      "outputs": []
    },
    {
      "cell_type": "code",
      "source": [
        "from sklearn.model_selection import cross_val_score, KFold\n",
        "\n",
        "print(\"10-fold Cross Validation\")\n",
        "\n",
        "# assign the model built earlier to variable model\n",
        "model = tree_classifier_100\n",
        "\n",
        "# Define the number of folds (k) for cross-validation\n",
        "k = 10\n",
        "\n",
        "# Create a cross-validation object (K-Fold cross-validator)\n",
        "kf = KFold(n_splits=k, shuffle=True, random_state=42)\n",
        "\n",
        "# Perform k-fold cross-validation and get the cross-validation scores\n",
        "# we use accuracy as the scoring metric here\n",
        "scores = cross_val_score(model, X_new_100, y, cv=kf, scoring='accuracy')\n",
        "\n",
        "# Print the cross-validation scores\n",
        "print(\"Cross-Validation Scores:\", scores)\n",
        "\n",
        "# Calculate and print the mean and standard deviation of the scores\n",
        "print(f\"Mean Accuracy: {round(scores.mean()*100, 3)}%\")\n",
        "print(f\"Standard Deviation: {round(scores.std()*100, 3)}%\")"
      ],
      "metadata": {
        "colab": {
          "base_uri": "https://localhost:8080/"
        },
        "id": "2GjKda1oTU51",
        "outputId": "f056c602-0f79-48ec-9b69-2b3ce7285e5f"
      },
      "execution_count": 50,
      "outputs": [
        {
          "output_type": "stream",
          "name": "stdout",
          "text": [
            "10-fold Cross Validation\n",
            "Cross-Validation Scores: [0.93333333 0.92857143 0.92857143 1.         1.         0.92857143\n",
            " 1.         0.92857143 1.         0.92857143]\n",
            "Mean Accuracy: 95.762%\n",
            "Standard Deviation: 3.463%\n"
          ]
        }
      ]
    },
    {
      "cell_type": "code",
      "source": [],
      "metadata": {
        "id": "0PBObThdTLWf"
      },
      "execution_count": null,
      "outputs": []
    }
  ]
}